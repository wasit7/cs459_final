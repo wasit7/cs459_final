{
 "cells": [
  {
   "cell_type": "markdown",
   "metadata": {},
   "source": [
    "# Setting some useful variables"
   ]
  },
  {
   "cell_type": "code",
   "execution_count": 1,
   "metadata": {
    "collapsed": false
   },
   "outputs": [
    {
     "name": "stdout",
     "output_type": "stream",
     "text": [
      "ROOT_PATH: C:\\Users\\Wasit\\Documents\\GitHub\\cs459_final\\myproject\n",
      "C:\\Users\\Wasit\\Documents\\GitHub\\cs459_final\\myproject\\rent_input.xls\n"
     ]
    }
   ],
   "source": [
    "import os\n",
    "import re\n",
    "APP_NAME=\"myapp\"\n",
    "ROOT_PATH=os.path.abspath(\".\")\n",
    "print \"ROOT_PATH: %s\"%ROOT_PATH\n",
    "\n",
    "input_filename=os.path.join(ROOT_PATH,\"rent_input.xls\")\n",
    "print input_filename\n",
    "import datetime"
   ]
  },
  {
   "cell_type": "markdown",
   "metadata": {},
   "source": [
    "# Loading  Car detail from the 1st sheet from the input excel"
   ]
  },
  {
   "cell_type": "code",
   "execution_count": 2,
   "metadata": {
    "collapsed": false
   },
   "outputs": [],
   "source": [
    "import pandas as pd\n",
    "cvt={\n",
    "        0:int,\n",
    "        1:unicode,\n",
    "        2:unicode,\n",
    "        3:float,\n",
    "        4:unicode,\n",
    "        5:int,\n",
    "    }\n",
    "df_car=pd.read_excel(io=input_filename,sheetname=0,converters=cvt)"
   ]
  },
  {
   "cell_type": "code",
   "execution_count": 3,
   "metadata": {
    "collapsed": false
   },
   "outputs": [
    {
     "name": "stdout",
     "output_type": "stream",
     "text": [
      "   ID    CarMaker CarModel  CarPrice   CarColor  CarYear\n",
      "0   1  Mitsubishi     L200    9995.0        red     2001\n",
      "1   2        Mini   Cooper   12500.0        red     2005\n",
      "2   3         TVR   Tuscan   18000.0       blue     2003\n",
      "3   4         BMW       Z3   13995.0     silver     2002\n",
      "4   5      Toyota   Celica    4665.0  dark blue     1997\n",
      "5   6        Audi       TT   21995.0     silver     2005\n",
      "6   7    Mercedes     E320   15495.0      green     2004\n"
     ]
    }
   ],
   "source": [
    "print df_car"
   ]
  },
  {
   "cell_type": "markdown",
   "metadata": {},
   "source": [
    "# Example for iterate over all row in the sheet"
   ]
  },
  {
   "cell_type": "code",
   "execution_count": 4,
   "metadata": {
    "collapsed": false
   },
   "outputs": [
    {
     "name": "stdout",
     "output_type": "stream",
     "text": [
      "k: 0, i:ID                   1\n",
      "CarMaker    Mitsubishi\n",
      "CarModel          L200\n",
      "CarPrice          9995\n",
      "CarColor           red\n",
      "CarYear           2001\n",
      "Name: 0, dtype: object\n",
      "------------------------------\n",
      "k: 1, i:ID               2\n",
      "CarMaker      Mini\n",
      "CarModel    Cooper\n",
      "CarPrice     12500\n",
      "CarColor       red\n",
      "CarYear       2005\n",
      "Name: 1, dtype: object\n",
      "------------------------------\n",
      "k: 2, i:ID               3\n",
      "CarMaker       TVR\n",
      "CarModel    Tuscan\n",
      "CarPrice     18000\n",
      "CarColor      blue\n",
      "CarYear       2003\n",
      "Name: 2, dtype: object\n",
      "------------------------------\n",
      "k: 3, i:ID               4\n",
      "CarMaker       BMW\n",
      "CarModel        Z3\n",
      "CarPrice     13995\n",
      "CarColor    silver\n",
      "CarYear       2002\n",
      "Name: 3, dtype: object\n",
      "------------------------------\n",
      "k: 4, i:ID                  5\n",
      "CarMaker       Toyota\n",
      "CarModel       Celica\n",
      "CarPrice         4665\n",
      "CarColor    dark blue\n",
      "CarYear          1997\n",
      "Name: 4, dtype: object\n",
      "------------------------------\n",
      "k: 5, i:ID               6\n",
      "CarMaker      Audi\n",
      "CarModel        TT\n",
      "CarPrice     21995\n",
      "CarColor    silver\n",
      "CarYear       2005\n",
      "Name: 5, dtype: object\n",
      "------------------------------\n",
      "k: 6, i:ID                 7\n",
      "CarMaker    Mercedes\n",
      "CarModel        E320\n",
      "CarPrice       15495\n",
      "CarColor       green\n",
      "CarYear         2004\n",
      "Name: 6, dtype: object\n",
      "------------------------------\n"
     ]
    }
   ],
   "source": [
    "for k,i in df_car.iterrows():\n",
    "    print \"k: %s, i:%s\\n%s\"%(k, i, \"-\"*30)"
   ]
  },
  {
   "cell_type": "markdown",
   "metadata": {},
   "source": [
    "# Each row contains 6 columns as following"
   ]
  },
  {
   "cell_type": "code",
   "execution_count": 5,
   "metadata": {
    "collapsed": false
   },
   "outputs": [
    {
     "data": {
      "text/plain": [
       "ID                 7\n",
       "CarMaker    Mercedes\n",
       "CarModel        E320\n",
       "CarPrice       15495\n",
       "CarColor       green\n",
       "CarYear         2004\n",
       "Name: 6, dtype: object"
      ]
     },
     "execution_count": 5,
     "metadata": {},
     "output_type": "execute_result"
    }
   ],
   "source": [
    "i"
   ]
  },
  {
   "cell_type": "markdown",
   "metadata": {},
   "source": [
    "# Uploading the row i into database"
   ]
  },
  {
   "cell_type": "code",
   "execution_count": 6,
   "metadata": {
    "collapsed": false
   },
   "outputs": [],
   "source": [
    "import pytz\n",
    "year=datetime.datetime(year=i['CarYear'], month=1, day=1, tzinfo=pytz.UTC)\n",
    "kargs={\n",
    "    'maker':i['CarMaker'], \n",
    "    'price':i['CarPrice'], \n",
    "    'model':i['CarModel'], \n",
    "    'year': year\n",
    "}\n",
    "car, created = Car.objects.update_or_create(\n",
    "                    id=i['ID'],\n",
    "                    defaults=kargs\n",
    "                )"
   ]
  },
  {
   "cell_type": "markdown",
   "metadata": {},
   "source": [
    "# Now uploading every rows"
   ]
  },
  {
   "cell_type": "code",
   "execution_count": 7,
   "metadata": {
    "collapsed": false
   },
   "outputs": [],
   "source": [
    "for k,i in df_car.iterrows():\n",
    "    year=datetime.datetime(year=i['CarYear'], month=1,day=1, tzinfo=pytz.UTC)\n",
    "    kargs={\n",
    "        'maker':i['CarMaker'], \n",
    "        'price':i['CarPrice'], \n",
    "        'model':i['CarModel'], \n",
    "        'year': year\n",
    "    }\n",
    "    car, created = Car.objects.update_or_create(\n",
    "                        id=i['ID'],\n",
    "                        defaults=kargs\n",
    "                    )"
   ]
  },
  {
   "cell_type": "markdown",
   "metadata": {},
   "source": [
    "# Then loading customer from the 2nd sheet"
   ]
  },
  {
   "cell_type": "code",
   "execution_count": 8,
   "metadata": {
    "collapsed": false
   },
   "outputs": [
    {
     "name": "stdout",
     "output_type": "stream",
     "text": [
      "Index([u'ID', u'ClientFirstName', u'ClientLastName', u'ClientAddress',\n",
      "       u'Postcode', u'Tel', u'Email'],\n",
      "      dtype='object')\n"
     ]
    }
   ],
   "source": [
    "import pandas as pd\n",
    "cvt={\n",
    "        0:unicode,\n",
    "        1:unicode,\n",
    "        2:unicode,\n",
    "        3:unicode,\n",
    "        4:unicode,\n",
    "        5:unicode,\n",
    "        6:unicode\n",
    "    }\n",
    "df_customer=pd.read_excel(io=input_filename,sheetname=1,converters=cvt)\n",
    "keys=df_customer.keys()\n",
    "print keys"
   ]
  },
  {
   "cell_type": "markdown",
   "metadata": {},
   "source": [
    "# And uploading the customer"
   ]
  },
  {
   "cell_type": "code",
   "execution_count": 9,
   "metadata": {
    "collapsed": false
   },
   "outputs": [],
   "source": [
    "for k,i in df_customer.iterrows():\n",
    "    kargs={\n",
    "        'first_name':i[keys[1]], \n",
    "        'last_name':i[keys[2]], \n",
    "        'Address':i[keys[3]], \n",
    "        'postcode':i[keys[4]], \n",
    "        'telephone':i[keys[5]], \n",
    "        'email':i[keys[6]]\n",
    "    }\n",
    "    customer, created = Customer.objects.update_or_create(\n",
    "                        id=i['ID'],\n",
    "                        defaults=kargs\n",
    "                    )"
   ]
  },
  {
   "cell_type": "markdown",
   "metadata": {},
   "source": [
    "# Finally Loading the 3rd sheet"
   ]
  },
  {
   "cell_type": "code",
   "execution_count": 10,
   "metadata": {
    "collapsed": false
   },
   "outputs": [
    {
     "name": "stdout",
     "output_type": "stream",
     "text": [
      "Index([u'ID', u'RentDate', u'ServiceCost', u'ReturnDate', u'ClientID',\n",
      "       u'CarID'],\n",
      "      dtype='object')\n"
     ]
    }
   ],
   "source": [
    "import pandas as pd\n",
    "df_rent=pd.read_excel(io=input_filename,sheetname=2)\n",
    "keys=df_rent.keys()\n",
    "print keys"
   ]
  },
  {
   "cell_type": "code",
   "execution_count": 11,
   "metadata": {
    "collapsed": false
   },
   "outputs": [
    {
     "data": {
      "text/html": [
       "<div>\n",
       "<table border=\"1\" class=\"dataframe\">\n",
       "  <thead>\n",
       "    <tr style=\"text-align: right;\">\n",
       "      <th></th>\n",
       "      <th>ID</th>\n",
       "      <th>RentDate</th>\n",
       "      <th>ServiceCost</th>\n",
       "      <th>ReturnDate</th>\n",
       "      <th>ClientID</th>\n",
       "      <th>CarID</th>\n",
       "    </tr>\n",
       "  </thead>\n",
       "  <tbody>\n",
       "    <tr>\n",
       "      <th>0</th>\n",
       "      <td>1</td>\n",
       "      <td>2014-03-12</td>\n",
       "      <td>549.75</td>\n",
       "      <td>2014-03-17</td>\n",
       "      <td>1</td>\n",
       "      <td>1</td>\n",
       "    </tr>\n",
       "    <tr>\n",
       "      <th>1</th>\n",
       "      <td>2</td>\n",
       "      <td>2014-03-12</td>\n",
       "      <td>1050.00</td>\n",
       "      <td>2014-03-20</td>\n",
       "      <td>2</td>\n",
       "      <td>2</td>\n",
       "    </tr>\n",
       "    <tr>\n",
       "      <th>2</th>\n",
       "      <td>3</td>\n",
       "      <td>2014-03-13</td>\n",
       "      <td>1310.00</td>\n",
       "      <td>2014-03-20</td>\n",
       "      <td>3</td>\n",
       "      <td>3</td>\n",
       "    </tr>\n",
       "    <tr>\n",
       "      <th>3</th>\n",
       "      <td>4</td>\n",
       "      <td>2014-03-17</td>\n",
       "      <td>425.00</td>\n",
       "      <td>2014-03-20</td>\n",
       "      <td>1</td>\n",
       "      <td>2</td>\n",
       "    </tr>\n",
       "    <tr>\n",
       "      <th>4</th>\n",
       "      <td>5</td>\n",
       "      <td>2014-03-20</td>\n",
       "      <td>189.95</td>\n",
       "      <td>2014-03-21</td>\n",
       "      <td>4</td>\n",
       "      <td>4</td>\n",
       "    </tr>\n",
       "    <tr>\n",
       "      <th>5</th>\n",
       "      <td>6</td>\n",
       "      <td>2014-03-20</td>\n",
       "      <td>50.00</td>\n",
       "      <td>2014-03-20</td>\n",
       "      <td>2</td>\n",
       "      <td>5</td>\n",
       "    </tr>\n",
       "    <tr>\n",
       "      <th>6</th>\n",
       "      <td>7</td>\n",
       "      <td>2014-03-20</td>\n",
       "      <td>269.95</td>\n",
       "      <td>2014-03-21</td>\n",
       "      <td>2</td>\n",
       "      <td>6</td>\n",
       "    </tr>\n",
       "    <tr>\n",
       "      <th>7</th>\n",
       "      <td>8</td>\n",
       "      <td>2014-03-21</td>\n",
       "      <td>514.85</td>\n",
       "      <td>2014-03-24</td>\n",
       "      <td>5</td>\n",
       "      <td>7</td>\n",
       "    </tr>\n",
       "    <tr>\n",
       "      <th>8</th>\n",
       "      <td>9</td>\n",
       "      <td>2014-03-24</td>\n",
       "      <td>549.75</td>\n",
       "      <td>2014-03-29</td>\n",
       "      <td>6</td>\n",
       "      <td>1</td>\n",
       "    </tr>\n",
       "    <tr>\n",
       "      <th>9</th>\n",
       "      <td>10</td>\n",
       "      <td>2014-03-29</td>\n",
       "      <td>50.00</td>\n",
       "      <td>2014-03-29</td>\n",
       "      <td>1</td>\n",
       "      <td>2</td>\n",
       "    </tr>\n",
       "    <tr>\n",
       "      <th>10</th>\n",
       "      <td>11</td>\n",
       "      <td>2014-03-29</td>\n",
       "      <td>500.00</td>\n",
       "      <td>2014-03-29</td>\n",
       "      <td>5</td>\n",
       "      <td>3</td>\n",
       "    </tr>\n",
       "    <tr>\n",
       "      <th>11</th>\n",
       "      <td>12</td>\n",
       "      <td>2014-03-29</td>\n",
       "      <td>500.00</td>\n",
       "      <td>2014-03-29</td>\n",
       "      <td>7</td>\n",
       "      <td>4</td>\n",
       "    </tr>\n",
       "    <tr>\n",
       "      <th>12</th>\n",
       "      <td>13</td>\n",
       "      <td>2014-03-30</td>\n",
       "      <td>430.00</td>\n",
       "      <td>2014-03-29</td>\n",
       "      <td>2</td>\n",
       "      <td>1</td>\n",
       "    </tr>\n",
       "    <tr>\n",
       "      <th>13</th>\n",
       "      <td>14</td>\n",
       "      <td>2014-03-30</td>\n",
       "      <td>430.00</td>\n",
       "      <td>2014-03-29</td>\n",
       "      <td>6</td>\n",
       "      <td>3</td>\n",
       "    </tr>\n",
       "    <tr>\n",
       "      <th>14</th>\n",
       "      <td>15</td>\n",
       "      <td>2014-03-30</td>\n",
       "      <td>430.00</td>\n",
       "      <td>2014-03-29</td>\n",
       "      <td>1</td>\n",
       "      <td>4</td>\n",
       "    </tr>\n",
       "    <tr>\n",
       "      <th>15</th>\n",
       "      <td>16</td>\n",
       "      <td>2014-03-30</td>\n",
       "      <td>430.00</td>\n",
       "      <td>2014-03-29</td>\n",
       "      <td>5</td>\n",
       "      <td>5</td>\n",
       "    </tr>\n",
       "    <tr>\n",
       "      <th>16</th>\n",
       "      <td>17</td>\n",
       "      <td>2014-03-30</td>\n",
       "      <td>430.00</td>\n",
       "      <td>2014-03-29</td>\n",
       "      <td>6</td>\n",
       "      <td>6</td>\n",
       "    </tr>\n",
       "  </tbody>\n",
       "</table>\n",
       "</div>"
      ],
      "text/plain": [
       "    ID   RentDate  ServiceCost ReturnDate  ClientID  CarID\n",
       "0    1 2014-03-12       549.75 2014-03-17         1      1\n",
       "1    2 2014-03-12      1050.00 2014-03-20         2      2\n",
       "2    3 2014-03-13      1310.00 2014-03-20         3      3\n",
       "3    4 2014-03-17       425.00 2014-03-20         1      2\n",
       "4    5 2014-03-20       189.95 2014-03-21         4      4\n",
       "5    6 2014-03-20        50.00 2014-03-20         2      5\n",
       "6    7 2014-03-20       269.95 2014-03-21         2      6\n",
       "7    8 2014-03-21       514.85 2014-03-24         5      7\n",
       "8    9 2014-03-24       549.75 2014-03-29         6      1\n",
       "9   10 2014-03-29        50.00 2014-03-29         1      2\n",
       "10  11 2014-03-29       500.00 2014-03-29         5      3\n",
       "11  12 2014-03-29       500.00 2014-03-29         7      4\n",
       "12  13 2014-03-30       430.00 2014-03-29         2      1\n",
       "13  14 2014-03-30       430.00 2014-03-29         6      3\n",
       "14  15 2014-03-30       430.00 2014-03-29         1      4\n",
       "15  16 2014-03-30       430.00 2014-03-29         5      5\n",
       "16  17 2014-03-30       430.00 2014-03-29         6      6"
      ]
     },
     "execution_count": 11,
     "metadata": {},
     "output_type": "execute_result"
    }
   ],
   "source": [
    "df_rent"
   ]
  },
  {
   "cell_type": "markdown",
   "metadata": {},
   "source": [
    "# And uploading  Rent records to the database"
   ]
  },
  {
   "cell_type": "code",
   "execution_count": 12,
   "metadata": {
    "collapsed": false
   },
   "outputs": [],
   "source": [
    "for k,i in df_rent.iterrows():\n",
    "    utc=pytz.timezone('UTC')\n",
    "    kargs={\n",
    "        'rent_date': utc.localize(i['RentDate']),\n",
    "        'return_date':utc.localize(i['ReturnDate']), \n",
    "        'cost':i['ServiceCost'], \n",
    "        'car': Car.objects.get(id=i['CarID']), \n",
    "        'customer': Customer.objects.get(id=i['ClientID']), \n",
    "    }\n",
    "    customer, created = Rent.objects.update_or_create(\n",
    "                        id=i['ID'],\n",
    "                        defaults=kargs\n",
    "                    )"
   ]
  },
  {
   "cell_type": "markdown",
   "metadata": {},
   "source": [
    "# Code explain"
   ]
  },
  {
   "cell_type": "markdown",
   "metadata": {},
   "source": [
    "To convert from naive-datetime to time-zone-aware-datetime\n",
    "```python\n",
    "import pytz\n",
    "utc=pytz.timezone('UTC')\n",
    "utc.localize( your_datetime )\n",
    "```"
   ]
  },
  {
   "cell_type": "code",
   "execution_count": null,
   "metadata": {
    "collapsed": true
   },
   "outputs": [],
   "source": []
  }
 ],
 "metadata": {
  "anaconda-cloud": {},
  "kernelspec": {
   "display_name": "Django Shell-Plus",
   "language": "python",
   "name": "django_extensions"
  },
  "language_info": {
   "codemirror_mode": {
    "name": "ipython",
    "version": 2
   },
   "file_extension": ".py",
   "mimetype": "text/x-python",
   "name": "python",
   "nbconvert_exporter": "python",
   "pygments_lexer": "ipython2",
   "version": "2.7.12"
  }
 },
 "nbformat": 4,
 "nbformat_minor": 1
}
