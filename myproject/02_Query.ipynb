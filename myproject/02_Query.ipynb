{
 "cells": [
  {
   "cell_type": "markdown",
   "metadata": {},
   "source": [
    "# Query Pattern\n",
    "* What is total rental cost between 13/03/2014-24/03/2014?\n",
    "* How much money collected from the car id=2?\n"
   ]
  },
  {
   "cell_type": "markdown",
   "metadata": {},
   "source": [
    "# Getting a record by id"
   ]
  },
  {
   "cell_type": "code",
   "execution_count": 1,
   "metadata": {
    "collapsed": false
   },
   "outputs": [
    {
     "name": "stdout",
     "output_type": "stream",
     "text": [
      "id: 2, Ronald Cunningham\n"
     ]
    }
   ],
   "source": [
    "c=Customer.objects.get(id=2)\n",
    "print c"
   ]
  },
  {
   "cell_type": "markdown",
   "metadata": {},
   "source": [
    "# Getting all records from table Customer"
   ]
  },
  {
   "cell_type": "code",
   "execution_count": 2,
   "metadata": {
    "collapsed": false
   },
   "outputs": [
    {
     "data": {
      "text/plain": [
       "[<Customer: id: 1, Alexandra Long>, <Customer: id: 2, Ronald Cunningham>, <Customer: id: 3, Jake Torres>, <Customer: id: 4, Woodrow Castillo>, <Customer: id: 5, Rolando Young>, <Customer: id: 6, Erick Gilbert>, <Customer: id: 7, David Castillo>, <Customer: id: 8, Karen Long>, <Customer: id: 9, Erick Gilbert>, <Customer: id: 10, Albert Gilbert>]"
      ]
     },
     "execution_count": 2,
     "metadata": {},
     "output_type": "execute_result"
    }
   ],
   "source": [
    "Customer.objects.all()"
   ]
  },
  {
   "cell_type": "code",
   "execution_count": 3,
   "metadata": {
    "collapsed": false
   },
   "outputs": [
    {
     "name": "stdout",
     "output_type": "stream",
     "text": [
      "SELECT \"myapp_customer\".\"id\", \"myapp_customer\".\"first_name\", \"myapp_customer\".\"last_name\", \"myapp_customer\".\"Address\", \"myapp_customer\".\"postcode\", \"myapp_customer\".\"telephone\", \"myapp_customer\".\"email\" FROM \"myapp_customer\"\n"
     ]
    }
   ],
   "source": [
    "# SQL command\n",
    "print Customer.objects.all().query"
   ]
  },
  {
   "cell_type": "markdown",
   "metadata": {},
   "source": [
    "# Filter records within range"
   ]
  },
  {
   "cell_type": "code",
   "execution_count": 4,
   "metadata": {
    "collapsed": false
   },
   "outputs": [],
   "source": [
    "from datetime import datetime\n",
    "import pytz\n",
    "utc=pytz.timezone('UTC')\n",
    "start_date = utc.localize( datetime.strptime('2014-03-13','%Y-%m-%d') )\n",
    "stop_date = utc.localize( datetime.strptime('2014-03-24','%Y-%m-%d') )"
   ]
  },
  {
   "cell_type": "code",
   "execution_count": 5,
   "metadata": {
    "collapsed": false
   },
   "outputs": [
    {
     "data": {
      "text/plain": [
       "[<Rent: id: 3>, <Rent: id: 4>, <Rent: id: 5>, <Rent: id: 6>, <Rent: id: 7>, <Rent: id: 8>, <Rent: id: 9>]"
      ]
     },
     "execution_count": 5,
     "metadata": {},
     "output_type": "execute_result"
    }
   ],
   "source": [
    "Rent.objects.filter(rent_date__range=[start_date, stop_date])"
   ]
  },
  {
   "cell_type": "code",
   "execution_count": 6,
   "metadata": {
    "collapsed": false
   },
   "outputs": [
    {
     "name": "stdout",
     "output_type": "stream",
     "text": [
      "SELECT \"myapp_rent\".\"id\", \"myapp_rent\".\"rent_date\", \"myapp_rent\".\"return_date\", \"myapp_rent\".\"cost\", \"myapp_rent\".\"car_id\", \"myapp_rent\".\"customer_id\" FROM \"myapp_rent\" WHERE \"myapp_rent\".\"rent_date\" BETWEEN 2014-03-13 00:00:00 AND 2014-03-24 00:00:00\n"
     ]
    }
   ],
   "source": [
    "# SQL command\n",
    "print Rent.objects.filter(rent_date__range=[start_date, stop_date ]).query"
   ]
  },
  {
   "cell_type": "markdown",
   "metadata": {},
   "source": [
    "# Filter less_than_or_equal (__lte)"
   ]
  },
  {
   "cell_type": "code",
   "execution_count": 7,
   "metadata": {
    "collapsed": false
   },
   "outputs": [
    {
     "data": {
      "text/plain": [
       "[<Rent: id: 1>, <Rent: id: 2>, <Rent: id: 3>]"
      ]
     },
     "execution_count": 7,
     "metadata": {},
     "output_type": "execute_result"
    }
   ],
   "source": [
    "# rent that happended before or equal 13 March 2014\n",
    "Rent.objects.filter(rent_date__lte=start_date)"
   ]
  },
  {
   "cell_type": "code",
   "execution_count": 8,
   "metadata": {
    "collapsed": false
   },
   "outputs": [
    {
     "name": "stdout",
     "output_type": "stream",
     "text": [
      "SELECT \"myapp_rent\".\"id\", \"myapp_rent\".\"rent_date\", \"myapp_rent\".\"return_date\", \"myapp_rent\".\"cost\", \"myapp_rent\".\"car_id\", \"myapp_rent\".\"customer_id\" FROM \"myapp_rent\" WHERE \"myapp_rent\".\"rent_date\" <= 2014-03-13 00:00:00\n"
     ]
    }
   ],
   "source": [
    "# SQL command\n",
    "print Rent.objects.filter(rent_date__lte=start_date).query"
   ]
  },
  {
   "cell_type": "markdown",
   "metadata": {},
   "source": [
    "# Filter greater than (__gt)"
   ]
  },
  {
   "cell_type": "code",
   "execution_count": 9,
   "metadata": {
    "collapsed": false
   },
   "outputs": [
    {
     "data": {
      "text/plain": [
       "[<Rent: id: 4>, <Rent: id: 5>, <Rent: id: 6>, <Rent: id: 7>, <Rent: id: 8>, <Rent: id: 9>, <Rent: id: 10>, <Rent: id: 11>, <Rent: id: 12>, <Rent: id: 13>, <Rent: id: 14>, <Rent: id: 15>, <Rent: id: 16>, <Rent: id: 17>]"
      ]
     },
     "execution_count": 9,
     "metadata": {},
     "output_type": "execute_result"
    }
   ],
   "source": [
    "# rent that happended after 13 March 2014\n",
    "Rent.objects.filter(rent_date__gt=start_date)"
   ]
  },
  {
   "cell_type": "code",
   "execution_count": 10,
   "metadata": {
    "collapsed": false
   },
   "outputs": [
    {
     "name": "stdout",
     "output_type": "stream",
     "text": [
      "SELECT \"myapp_rent\".\"id\", \"myapp_rent\".\"rent_date\", \"myapp_rent\".\"return_date\", \"myapp_rent\".\"cost\", \"myapp_rent\".\"car_id\", \"myapp_rent\".\"customer_id\" FROM \"myapp_rent\" WHERE \"myapp_rent\".\"rent_date\" > 2014-03-13 00:00:00\n"
     ]
    }
   ],
   "source": [
    "# SQL command\n",
    "print Rent.objects.filter(rent_date__gt=start_date).query"
   ]
  },
  {
   "cell_type": "markdown",
   "metadata": {},
   "source": [
    "# What is total rental cost between 13/03/2014-24/03/2014?"
   ]
  },
  {
   "cell_type": "markdown",
   "metadata": {},
   "source": [
    "### Naive solution ( but slow )"
   ]
  },
  {
   "cell_type": "code",
   "execution_count": 11,
   "metadata": {
    "collapsed": false
   },
   "outputs": [
    {
     "name": "stdout",
     "output_type": "stream",
     "text": [
      "10 loops, best of 3: 2.33 ms per loop\n"
     ]
    }
   ],
   "source": [
    "%%timeit -n10\n",
    "total=0\n",
    "q=Rent.objects.filter(rent_date__range=[start_date, stop_date])\n",
    "for i in q:\n",
    "   total=total + i.cost"
   ]
  },
  {
   "cell_type": "markdown",
   "metadata": {},
   "source": [
    "### Better by Using \"aggregration()\""
   ]
  },
  {
   "cell_type": "code",
   "execution_count": 12,
   "metadata": {
    "collapsed": false
   },
   "outputs": [
    {
     "name": "stdout",
     "output_type": "stream",
     "text": [
      "10 loops, best of 3: 879 µs per loop\n"
     ]
    }
   ],
   "source": [
    "%%timeit -n10\n",
    "from django.db.models import Sum, Max, Min, Avg\n",
    "Rent.objects.filter(rent_date__range=[start_date, stop_date]).aggregate(Sum('cost'))"
   ]
  },
  {
   "cell_type": "code",
   "execution_count": 13,
   "metadata": {
    "collapsed": false
   },
   "outputs": [
    {
     "data": {
      "text/plain": [
       "{'cost__sum': Decimal('3309.50')}"
      ]
     },
     "execution_count": 13,
     "metadata": {},
     "output_type": "execute_result"
    }
   ],
   "source": [
    "q=Rent.objects.filter(rent_date__range=[start_date, stop_date])\n",
    "r=q.aggregate(Sum('cost'))\n",
    "r"
   ]
  },
  {
   "cell_type": "code",
   "execution_count": 14,
   "metadata": {
    "collapsed": false
   },
   "outputs": [
    {
     "data": {
      "text/plain": [
       "{'cost__max': Decimal('1310.00')}"
      ]
     },
     "execution_count": 14,
     "metadata": {},
     "output_type": "execute_result"
    }
   ],
   "source": [
    "Rent.objects.filter(rent_date__range=[start_date, stop_date]).aggregate(Max('cost'))"
   ]
  },
  {
   "cell_type": "markdown",
   "metadata": {},
   "source": [
    "# Annotate Count"
   ]
  },
  {
   "cell_type": "code",
   "execution_count": 15,
   "metadata": {
    "collapsed": true
   },
   "outputs": [],
   "source": [
    "from django.db.models import Count"
   ]
  },
  {
   "cell_type": "code",
   "execution_count": 16,
   "metadata": {
    "collapsed": false
   },
   "outputs": [],
   "source": [
    "q=Car.objects.annotate(Count(\"rent\"))"
   ]
  },
  {
   "cell_type": "code",
   "execution_count": 17,
   "metadata": {
    "collapsed": false
   },
   "outputs": [
    {
     "data": {
      "text/plain": [
       "3"
      ]
     },
     "execution_count": 17,
     "metadata": {},
     "output_type": "execute_result"
    }
   ],
   "source": [
    "q[0].rent__count"
   ]
  },
  {
   "cell_type": "code",
   "execution_count": 18,
   "metadata": {
    "collapsed": false
   },
   "outputs": [
    {
     "name": "stdout",
     "output_type": "stream",
     "text": [
      "rent__count:3 car:id: 1, Mitsubishi L200\n",
      "rent__count:3 car:id: 2, Mini Cooper\n",
      "rent__count:3 car:id: 3, TVR Tuscan\n",
      "rent__count:3 car:id: 4, BMW Z3\n",
      "rent__count:2 car:id: 5, Toyota Celica\n",
      "rent__count:2 car:id: 6, Audi TT\n",
      "rent__count:1 car:id: 7, Mercedes E320\n"
     ]
    }
   ],
   "source": [
    "for i in q:\n",
    "    print \"rent__count:%s car:%s\"%(i.rent__count, i)"
   ]
  },
  {
   "cell_type": "code",
   "execution_count": 19,
   "metadata": {
    "collapsed": false
   },
   "outputs": [
    {
     "name": "stdout",
     "output_type": "stream",
     "text": [
      "SELECT \"myapp_car\".\"id\", \"myapp_car\".\"maker\", \"myapp_car\".\"price\", \"myapp_car\".\"model\", \"myapp_car\".\"year\", COUNT(\"myapp_rent\".\"id\") AS \"rent__count\" FROM \"myapp_car\" LEFT OUTER JOIN \"myapp_rent\" ON (\"myapp_car\".\"id\" = \"myapp_rent\".\"car_id\") GROUP BY \"myapp_car\".\"id\", \"myapp_car\".\"maker\", \"myapp_car\".\"price\", \"myapp_car\".\"model\", \"myapp_car\".\"year\"\n"
     ]
    }
   ],
   "source": [
    "print Car.objects.annotate(Count(\"rent\")).query"
   ]
  },
  {
   "cell_type": "markdown",
   "metadata": {},
   "source": [
    "# Reverse relation"
   ]
  },
  {
   "cell_type": "code",
   "execution_count": 20,
   "metadata": {
    "collapsed": false
   },
   "outputs": [
    {
     "data": {
      "text/plain": [
       "<Car: id: 2, Mini Cooper>"
      ]
     },
     "execution_count": 20,
     "metadata": {},
     "output_type": "execute_result"
    }
   ],
   "source": [
    "Car.objects.get(id=2)"
   ]
  },
  {
   "cell_type": "code",
   "execution_count": 21,
   "metadata": {
    "collapsed": false
   },
   "outputs": [
    {
     "data": {
      "text/plain": [
       "[<Rent: id: 2>, <Rent: id: 4>, <Rent: id: 10>]"
      ]
     },
     "execution_count": 21,
     "metadata": {},
     "output_type": "execute_result"
    }
   ],
   "source": [
    "Car.objects.get(id=2).rent_set.all()"
   ]
  },
  {
   "cell_type": "code",
   "execution_count": 22,
   "metadata": {
    "collapsed": false
   },
   "outputs": [
    {
     "name": "stdout",
     "output_type": "stream",
     "text": [
      "SELECT \"myapp_rent\".\"id\", \"myapp_rent\".\"rent_date\", \"myapp_rent\".\"return_date\", \"myapp_rent\".\"cost\", \"myapp_rent\".\"car_id\", \"myapp_rent\".\"customer_id\" FROM \"myapp_rent\" WHERE \"myapp_rent\".\"car_id\" = 2\n"
     ]
    }
   ],
   "source": [
    "# SQL command\n",
    "print Car.objects.get(id=2).rent_set.all().query"
   ]
  },
  {
   "cell_type": "markdown",
   "metadata": {},
   "source": [
    "# How much money collected from the car id=2?"
   ]
  },
  {
   "cell_type": "markdown",
   "metadata": {},
   "source": [
    "### Reverse relation (slow)"
   ]
  },
  {
   "cell_type": "code",
   "execution_count": 23,
   "metadata": {
    "collapsed": false
   },
   "outputs": [
    {
     "name": "stdout",
     "output_type": "stream",
     "text": [
      "{'cost__sum': Decimal('1525.00')}\n",
      "{'cost__sum': Decimal('1525.00')}\n",
      "{'cost__sum': Decimal('1525.00')}\n",
      "1 loop, best of 3: 2.03 ms per loop\n"
     ]
    }
   ],
   "source": [
    "%%timeit -n1\n",
    "sum_cost=Car.objects.get(id=2).rent_set.all().aggregate(Sum('cost'))\n",
    "print sum_cost"
   ]
  },
  {
   "cell_type": "code",
   "execution_count": 24,
   "metadata": {
    "collapsed": false
   },
   "outputs": [
    {
     "name": "stdout",
     "output_type": "stream",
     "text": [
      "SELECT \"myapp_rent\".\"id\", \"myapp_rent\".\"rent_date\", \"myapp_rent\".\"return_date\", \"myapp_rent\".\"cost\", \"myapp_rent\".\"car_id\", \"myapp_rent\".\"customer_id\" FROM \"myapp_rent\" WHERE \"myapp_rent\".\"car_id\" = 2\n"
     ]
    }
   ],
   "source": [
    "print Car.objects.get(id=2).rent_set.all().query"
   ]
  },
  {
   "cell_type": "markdown",
   "metadata": {},
   "source": [
    "### Forward relation"
   ]
  },
  {
   "cell_type": "code",
   "execution_count": 25,
   "metadata": {
    "collapsed": false
   },
   "outputs": [
    {
     "name": "stdout",
     "output_type": "stream",
     "text": [
      "{'cost__sum': Decimal('1525.00')}\n",
      "{'cost__sum': Decimal('1525.00')}\n",
      "{'cost__sum': Decimal('1525.00')}\n",
      "1 loop, best of 3: 2.27 ms per loop\n"
     ]
    }
   ],
   "source": [
    "%%timeit -n1\n",
    "sum_cost=Rent.objects.filter(car__id=2).aggregate(Sum('cost'))\n",
    "print sum_cost"
   ]
  },
  {
   "cell_type": "code",
   "execution_count": 26,
   "metadata": {
    "collapsed": false
   },
   "outputs": [
    {
     "name": "stdout",
     "output_type": "stream",
     "text": [
      "SELECT \"myapp_rent\".\"id\", \"myapp_rent\".\"rent_date\", \"myapp_rent\".\"return_date\", \"myapp_rent\".\"cost\", \"myapp_rent\".\"car_id\", \"myapp_rent\".\"customer_id\" FROM \"myapp_rent\" WHERE \"myapp_rent\".\"car_id\" = 2\n"
     ]
    }
   ],
   "source": [
    "print Rent.objects.filter(car__id=2).query"
   ]
  },
  {
   "cell_type": "markdown",
   "metadata": {},
   "source": [
    "# Find total income for each car"
   ]
  },
  {
   "cell_type": "code",
   "execution_count": 27,
   "metadata": {
    "collapsed": false
   },
   "outputs": [
    {
     "name": "stdout",
     "output_type": "stream",
     "text": [
      "income:1529.50 car:id: 1, Mitsubishi L200\n",
      "income:1525.00 car:id: 2, Mini Cooper\n",
      "income:2240.00 car:id: 3, TVR Tuscan\n",
      "income:1119.95 car:id: 4, BMW Z3\n",
      "income:480.00 car:id: 5, Toyota Celica\n",
      "income:699.95 car:id: 6, Audi TT\n",
      "income:514.85 car:id: 7, Mercedes E320\n"
     ]
    }
   ],
   "source": [
    "q=Car.objects.annotate(Sum(\"rent__cost\"))\n",
    "for i in q:\n",
    "    print \"income:%s car:%s\"%(i.rent__cost__sum,i)"
   ]
  },
  {
   "cell_type": "markdown",
   "metadata": {},
   "source": [
    "# Q: Why do we need to use revese relation?\n",
    "# A: Sometimes we need to iterate over all cars to get total cost of each car."
   ]
  },
  {
   "cell_type": "code",
   "execution_count": 28,
   "metadata": {
    "collapsed": false
   },
   "outputs": [
    {
     "name": "stdout",
     "output_type": "stream",
     "text": [
      "id: 1, Mitsubishi L200\n",
      "    {'cost__sum': Decimal('1529.50')}\n",
      "id: 2, Mini Cooper\n",
      "    {'cost__sum': Decimal('1525.00')}\n",
      "id: 3, TVR Tuscan\n",
      "    {'cost__sum': Decimal('2240.00')}\n",
      "id: 4, BMW Z3\n",
      "    {'cost__sum': Decimal('1119.95')}\n",
      "id: 5, Toyota Celica\n",
      "    {'cost__sum': Decimal('480.00')}\n",
      "id: 6, Audi TT\n",
      "    {'cost__sum': Decimal('699.95')}\n",
      "id: 7, Mercedes E320\n",
      "    {'cost__sum': Decimal('514.85')}\n",
      "id: 1, Mitsubishi L200\n",
      "    {'cost__sum': Decimal('1529.50')}\n",
      "id: 2, Mini Cooper\n",
      "    {'cost__sum': Decimal('1525.00')}\n",
      "id: 3, TVR Tuscan\n",
      "    {'cost__sum': Decimal('2240.00')}\n",
      "id: 4, BMW Z3\n",
      "    {'cost__sum': Decimal('1119.95')}\n",
      "id: 5, Toyota Celica\n",
      "    {'cost__sum': Decimal('480.00')}\n",
      "id: 6, Audi TT\n",
      "    {'cost__sum': Decimal('699.95')}\n",
      "id: 7, Mercedes E320\n",
      "    {'cost__sum': Decimal('514.85')}\n",
      "id: 1, Mitsubishi L200\n",
      "    {'cost__sum': Decimal('1529.50')}\n",
      "id: 2, Mini Cooper\n",
      "    {'cost__sum': Decimal('1525.00')}\n",
      "id: 3, TVR Tuscan\n",
      "    {'cost__sum': Decimal('2240.00')}\n",
      "id: 4, BMW Z3\n",
      "    {'cost__sum': Decimal('1119.95')}\n",
      "id: 5, Toyota Celica\n",
      "    {'cost__sum': Decimal('480.00')}\n",
      "id: 6, Audi TT\n",
      "    {'cost__sum': Decimal('699.95')}\n",
      "id: 7, Mercedes E320\n",
      "    {'cost__sum': Decimal('514.85')}\n",
      "1 loop, best of 3: 8.94 ms per loop\n"
     ]
    }
   ],
   "source": [
    "%%timeit -n1\n",
    "for i in Car.objects.all():\n",
    "    print \"%s\\n    %s\"%( i, i.rent_set.all().aggregate(Sum('cost')) )"
   ]
  },
  {
   "cell_type": "markdown",
   "metadata": {},
   "source": [
    "### Better Solution by using \"annotation()\""
   ]
  },
  {
   "cell_type": "code",
   "execution_count": 29,
   "metadata": {
    "collapsed": false
   },
   "outputs": [
    {
     "name": "stdout",
     "output_type": "stream",
     "text": [
      "id: 1, Mitsubishi L200\n",
      "    1529.50\n",
      "id: 2, Mini Cooper\n",
      "    1525.00\n",
      "id: 3, TVR Tuscan\n",
      "    2240.00\n",
      "id: 4, BMW Z3\n",
      "    1119.95\n",
      "id: 5, Toyota Celica\n",
      "    480.00\n",
      "id: 6, Audi TT\n",
      "    699.95\n",
      "id: 7, Mercedes E320\n",
      "    514.85\n",
      "id: 1, Mitsubishi L200\n",
      "    1529.50\n",
      "id: 2, Mini Cooper\n",
      "    1525.00\n",
      "id: 3, TVR Tuscan\n",
      "    2240.00\n",
      "id: 4, BMW Z3\n",
      "    1119.95\n",
      "id: 5, Toyota Celica\n",
      "    480.00\n",
      "id: 6, Audi TT\n",
      "    699.95\n",
      "id: 7, Mercedes E320\n",
      "    514.85\n",
      "id: 1, Mitsubishi L200\n",
      "    1529.50\n",
      "id: 2, Mini Cooper\n",
      "    1525.00\n",
      "id: 3, TVR Tuscan\n",
      "    2240.00\n",
      "id: 4, BMW Z3\n",
      "    1119.95\n",
      "id: 5, Toyota Celica\n",
      "    480.00\n",
      "id: 6, Audi TT\n",
      "    699.95\n",
      "id: 7, Mercedes E320\n",
      "    514.85\n",
      "1 loop, best of 3: 6.45 ms per loop\n"
     ]
    }
   ],
   "source": [
    "%%timeit -n1\n",
    "cars=Car.objects.all().annotate(Sum('rent__cost'))\n",
    "for i in cars:\n",
    "    print \"%s\\n    %s\"%( i, i.rent__cost__sum ) "
   ]
  },
  {
   "cell_type": "code",
   "execution_count": 30,
   "metadata": {
    "collapsed": false
   },
   "outputs": [
    {
     "name": "stdout",
     "output_type": "stream",
     "text": [
      "SELECT \"myapp_car\".\"id\", \"myapp_car\".\"maker\", \"myapp_car\".\"price\", \"myapp_car\".\"model\", \"myapp_car\".\"year\", CAST(SUM(\"myapp_rent\".\"cost\") AS NUMERIC) AS \"rent__cost__sum\" FROM \"myapp_car\" LEFT OUTER JOIN \"myapp_rent\" ON (\"myapp_car\".\"id\" = \"myapp_rent\".\"car_id\") GROUP BY \"myapp_car\".\"id\", \"myapp_car\".\"maker\", \"myapp_car\".\"price\", \"myapp_car\".\"model\", \"myapp_car\".\"year\"\n"
     ]
    }
   ],
   "source": [
    "print Car.objects.all().annotate(Sum('rent__cost')).query"
   ]
  },
  {
   "cell_type": "code",
   "execution_count": null,
   "metadata": {
    "collapsed": true
   },
   "outputs": [],
   "source": []
  }
 ],
 "metadata": {
  "anaconda-cloud": {},
  "kernelspec": {
   "display_name": "Django Shell-Plus",
   "language": "python",
   "name": "django_extensions"
  },
  "language_info": {
   "codemirror_mode": {
    "name": "ipython",
    "version": 2
   },
   "file_extension": ".py",
   "mimetype": "text/x-python",
   "name": "python",
   "nbconvert_exporter": "python",
   "pygments_lexer": "ipython2",
   "version": "2.7.12"
  }
 },
 "nbformat": 4,
 "nbformat_minor": 1
}
