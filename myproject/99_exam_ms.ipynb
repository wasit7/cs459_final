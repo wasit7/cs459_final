{
 "cells": [
  {
   "cell_type": "markdown",
   "metadata": {},
   "source": [
    "Write python scripts to answer the following questions:\n",
    "```\n",
    "Q1 Who did spend most money for renting?\n",
    "Q2 Which car does make the most amount of income?\n",
    "Q3 How many time Erick Gilbert (id=6) rent the cars? (need to query from the name)\n",
    "Q4 What are the cars rented by Ronald Cunningham? (need to query from the name)\n",
    "Q5 Between 17/03/2014(inclusive) and 29/03/2014(inclusive), \n",
    "    what is the total income of ALL cars in the range of time? (use return date)\n",
    "Q6 Between 17/03/2014(inclusive) and 29/03/2014(inclusive), (use return date)\n",
    "    what are the total incomes of EACH car in the range of time?\n",
    "Q7 Find all rental serveices that has duration less than than 3 days?\n",
    "Q8 Find all rental serveices that has duration greater than or equal than 2 day?\n",
    "Q9 Find the total rent duration of EACH car?\n",
    "Q10 Find the ratio [total_income_of_car]/[car_price] of EACH car?\n",
    "```"
   ]
  },
  {
   "cell_type": "markdown",
   "metadata": {
    "collapsed": true
   },
   "source": [
    "```\n",
    "Q1 ใครจ่ายเงินค่าเช้ามากที่สุด\n",
    "Q2 รถคันไหนทำรายได้มากที่สุด\n",
    "Q3 Erick Gilbert (id=6) ยืมรถไปกี่ครั้ง (need to query from the name)\n",
    "Q4 Ronald Cunningham ยืมรถคันไหนบ้าง (need to query from the name)\n",
    "Q5 ช่วงวันที่ 17/03/2014(inclusive) ถึง 29/03/2014(inclusive), \n",
    "    หารายได้รวมของรถทุกคันในช่วงเวลานี้\n",
    "Q6 ช่วงวันที่ 17/03/2014(inclusive) ถึง 29/03/2014(inclusive),\n",
    "    หารายได้รวมของรถแต่ละคันในช่วงเวลานี้\n",
    "Q7 การเช่ารถครั้งใดบ้างที่มีระยะเวลายืมน้อยกว่า 3 วัน\n",
    "Q8 การเช่ารถครั้งใดบ้างที่มีระยะเวลายืมมากกว่าหรือเท่ากับ 2 วัน\n",
    "Q9 หาระยะเวลารวมของการเช่ารถแต่ละคัน\n",
    "Q10 หาอัตราส่วน [total_income_of_car]/[car_price] ของรถแต่ละคัน\n",
    "```"
   ]
  },
  {
   "cell_type": "markdown",
   "metadata": {},
   "source": [
    "# Q1"
   ]
  },
  {
   "cell_type": "code",
   "execution_count": 1,
   "metadata": {
    "collapsed": false
   },
   "outputs": [],
   "source": [
    "from myapp.models import *"
   ]
  },
  {
   "cell_type": "code",
   "execution_count": 2,
   "metadata": {
    "collapsed": false
   },
   "outputs": [
    {
     "name": "stdout",
     "output_type": "stream",
     "text": [
      "1799.95 id: 2, Ronald Cunningham\n"
     ]
    }
   ],
   "source": [
    "q1=Customer.objects.annotate(Sum(\"rent__cost\")).order_by(\"rent__cost__sum\").last()\n",
    "print \"%s %s\"%(q1.rent__cost__sum, q1)"
   ]
  },
  {
   "cell_type": "markdown",
   "metadata": {},
   "source": [
    "# Q2"
   ]
  },
  {
   "cell_type": "code",
   "execution_count": 3,
   "metadata": {
    "collapsed": false
   },
   "outputs": [
    {
     "name": "stdout",
     "output_type": "stream",
     "text": [
      "2240.00 id: 3, TVR Tuscan\n"
     ]
    }
   ],
   "source": [
    "q2=Car.objects.annotate(Sum(\"rent__cost\")).order_by(\"rent__cost__sum\").last()\n",
    "print \"%s %s\"%(q2.rent__cost__sum, q2)"
   ]
  },
  {
   "cell_type": "markdown",
   "metadata": {},
   "source": [
    "# Q3"
   ]
  },
  {
   "cell_type": "code",
   "execution_count": 4,
   "metadata": {
    "collapsed": false
   },
   "outputs": [
    {
     "name": "stdout",
     "output_type": "stream",
     "text": [
      "{'rent__count': 3}\n"
     ]
    }
   ],
   "source": [
    "q3=Customer.objects.filter(id=6).aggregate(Count(\"rent\"))\n",
    "print q3"
   ]
  },
  {
   "cell_type": "markdown",
   "metadata": {},
   "source": [
    "# Q4"
   ]
  },
  {
   "cell_type": "code",
   "execution_count": 5,
   "metadata": {
    "collapsed": false
   },
   "outputs": [
    {
     "name": "stdout",
     "output_type": "stream",
     "text": [
      "Q4: 4\n"
     ]
    }
   ],
   "source": [
    "c=Customer.objects.get(first_name=\"Ronald\", last_name=\"Cunningham\")\n",
    "print \"Q4: %s\"%len(c.rent_set.all())"
   ]
  },
  {
   "cell_type": "markdown",
   "metadata": {},
   "source": [
    "# Q5"
   ]
  },
  {
   "cell_type": "code",
   "execution_count": 27,
   "metadata": {
    "collapsed": false
   },
   "outputs": [
    {
     "data": {
      "text/plain": [
       "{'cost__sum': Decimal('8109.25')}"
      ]
     },
     "execution_count": 27,
     "metadata": {},
     "output_type": "execute_result"
    }
   ],
   "source": [
    "from datetime import datetime\n",
    "import pytz\n",
    "utc=pytz.timezone('UTC')\n",
    "start_date = utc.localize( datetime.strptime('2014-03-17','%Y-%m-%d') )\n",
    "stop_date = utc.localize( datetime.strptime('2014-03-29','%Y-%m-%d') )\n",
    "#for i in Rent.objects.filter(return_date__range=[start_date, stop_date]):\n",
    "#    print i.return_date\n",
    "Rent.objects.filter(return_date__range=[start_date, stop_date]).aggregate(Sum(\"cost\"))"
   ]
  },
  {
   "cell_type": "markdown",
   "metadata": {},
   "source": [
    "# Q6"
   ]
  },
  {
   "cell_type": "code",
   "execution_count": 23,
   "metadata": {
    "collapsed": false
   },
   "outputs": [],
   "source": [
    "car_total_rent={}\n",
    "for i in Rent.objects.filter(return_date__range=[start_date, stop_date]):\n",
    "    key=str(i.car.id)+\": \"+str(i.car.model)\n",
    "    car_total_rent[key]=car_total_rent.get(key,0)+i.cost"
   ]
  },
  {
   "cell_type": "code",
   "execution_count": 24,
   "metadata": {
    "collapsed": false
   },
   "outputs": [
    {
     "data": {
      "text/plain": [
       "{'1: L200': Decimal('1529.50'),\n",
       " '2: Cooper': Decimal('1525.00'),\n",
       " '3: Tuscan': Decimal('2240.00'),\n",
       " '4: Z3': Decimal('1119.95'),\n",
       " '5: Celica': Decimal('480.00'),\n",
       " '6: TT': Decimal('699.95'),\n",
       " '7: E320': Decimal('514.85')}"
      ]
     },
     "execution_count": 24,
     "metadata": {},
     "output_type": "execute_result"
    }
   ],
   "source": [
    "car_total_rent"
   ]
  },
  {
   "cell_type": "markdown",
   "metadata": {},
   "source": [
    "# Q7"
   ]
  },
  {
   "cell_type": "code",
   "execution_count": 9,
   "metadata": {
    "collapsed": false
   },
   "outputs": [
    {
     "name": "stdout",
     "output_type": "stream",
     "text": [
      "rent:2014-03-20 00:00:00+00:00, return:2014-03-21 00:00:00+00:00\n",
      "id: 5\n",
      "rent:2014-03-20 00:00:00+00:00, return:2014-03-20 00:00:00+00:00\n",
      "id: 6\n",
      "rent:2014-03-20 00:00:00+00:00, return:2014-03-21 00:00:00+00:00\n",
      "id: 7\n",
      "rent:2014-03-29 00:00:00+00:00, return:2014-03-29 00:00:00+00:00\n",
      "id: 10\n",
      "rent:2014-03-29 00:00:00+00:00, return:2014-03-29 00:00:00+00:00\n",
      "id: 11\n",
      "rent:2014-03-29 00:00:00+00:00, return:2014-03-29 00:00:00+00:00\n",
      "id: 12\n"
     ]
    }
   ],
   "source": [
    "count=0\n",
    "for r in Rent.objects.all():\n",
    "    dur=(r.return_date-r.rent_date).days\n",
    "    if 0<=dur and dur<3:\n",
    "        count+=1\n",
    "        print \"rent:%s, return:%s\"%(r.rent_date, r.return_date)\n",
    "        print \"%s\"%r"
   ]
  },
  {
   "cell_type": "markdown",
   "metadata": {},
   "source": [
    "# Q8"
   ]
  },
  {
   "cell_type": "code",
   "execution_count": 10,
   "metadata": {
    "collapsed": false
   },
   "outputs": [
    {
     "name": "stdout",
     "output_type": "stream",
     "text": [
      "rent:2014-03-12 00:00:00+00:00, return:2014-03-17 00:00:00+00:00\n",
      "id: 1\n",
      "rent:2014-03-12 00:00:00+00:00, return:2014-03-20 00:00:00+00:00\n",
      "id: 2\n",
      "rent:2014-03-13 00:00:00+00:00, return:2014-03-20 00:00:00+00:00\n",
      "id: 3\n",
      "rent:2014-03-17 00:00:00+00:00, return:2014-03-20 00:00:00+00:00\n",
      "id: 4\n",
      "rent:2014-03-21 00:00:00+00:00, return:2014-03-24 00:00:00+00:00\n",
      "id: 8\n",
      "rent:2014-03-24 00:00:00+00:00, return:2014-03-29 00:00:00+00:00\n",
      "id: 9\n"
     ]
    }
   ],
   "source": [
    "count=0\n",
    "for r in Rent.objects.all():\n",
    "    dur=(r.return_date-r.rent_date).days\n",
    "    if 2<=dur:\n",
    "        count+=1\n",
    "        print \"rent:%s, return:%s\"%(r.rent_date, r.return_date)\n",
    "        print \"%s\"%r"
   ]
  },
  {
   "cell_type": "markdown",
   "metadata": {},
   "source": [
    "# Q9"
   ]
  },
  {
   "cell_type": "code",
   "execution_count": 11,
   "metadata": {
    "collapsed": false
   },
   "outputs": [
    {
     "name": "stdout",
     "output_type": "stream",
     "text": [
      "{u'L200': 9, u'Cooper': 11, u'E320': 3, u'TT': 0, u'Celica': -1, u'Tuscan': 6, u'Z3': 0}\n"
     ]
    }
   ],
   "source": [
    "car_use={}\n",
    "for r in Rent.objects.all():\n",
    "    dur=(r.return_date-r.rent_date).days\n",
    "    car_use[r.car.model]=car_use.get(r.car.model,0)+dur\n",
    "print car_use"
   ]
  },
  {
   "cell_type": "code",
   "execution_count": 12,
   "metadata": {
    "collapsed": false
   },
   "outputs": [
    {
     "name": "stdout",
     "output_type": "stream",
     "text": [
      "{u'L200': 10, u'Cooper': 11, u'E320': 3, u'TT': 1, u'Celica': 0, u'Tuscan': 7, u'Z3': 1}\n"
     ]
    }
   ],
   "source": [
    "car_use={}\n",
    "for r in Rent.objects.all():\n",
    "    dur=(r.return_date-r.rent_date).days\n",
    "    if dur<0:\n",
    "        dur=0\n",
    "    car_use[r.car.model]=car_use.get(r.car.model,0)+dur\n",
    "print car_use"
   ]
  },
  {
   "cell_type": "markdown",
   "metadata": {},
   "source": [
    "# Q10"
   ]
  },
  {
   "cell_type": "code",
   "execution_count": 13,
   "metadata": {
    "collapsed": true
   },
   "outputs": [],
   "source": [
    "q=Car.objects.annotate(Sum(\"rent__cost\"))"
   ]
  },
  {
   "cell_type": "code",
   "execution_count": 14,
   "metadata": {
    "collapsed": false
   },
   "outputs": [
    {
     "name": "stdout",
     "output_type": "stream",
     "text": [
      "0.153 id: 1, Mitsubishi L200\n",
      "0.122 id: 2, Mini Cooper\n",
      "0.124 id: 3, TVR Tuscan\n",
      "0.080 id: 4, BMW Z3\n",
      "0.103 id: 5, Toyota Celica\n",
      "0.032 id: 6, Audi TT\n",
      "0.033 id: 7, Mercedes E320\n"
     ]
    }
   ],
   "source": [
    "for i in q:\n",
    "    print \"%.3f %s\"%(i.rent__cost__sum/i.price, i)"
   ]
  },
  {
   "cell_type": "code",
   "execution_count": 25,
   "metadata": {
    "collapsed": false
   },
   "outputs": [
    {
     "data": {
      "text/plain": [
       "[<Rent: id: 1>, <Rent: id: 2>, <Rent: id: 3>, <Rent: id: 4>, <Rent: id: 5>, <Rent: id: 6>, <Rent: id: 7>, <Rent: id: 8>, <Rent: id: 9>, <Rent: id: 10>, <Rent: id: 11>, <Rent: id: 12>, <Rent: id: 13>, <Rent: id: 14>, <Rent: id: 15>, <Rent: id: 16>, <Rent: id: 17>]"
      ]
     },
     "execution_count": 25,
     "metadata": {},
     "output_type": "execute_result"
    }
   ],
   "source": [
    "Rent.objects.all()"
   ]
  },
  {
   "cell_type": "code",
   "execution_count": null,
   "metadata": {
    "collapsed": true
   },
   "outputs": [],
   "source": []
  }
 ],
 "metadata": {
  "anaconda-cloud": {},
  "kernelspec": {
   "display_name": "Django Shell-Plus",
   "language": "python",
   "name": "django_extensions"
  },
  "language_info": {
   "codemirror_mode": {
    "name": "ipython",
    "version": 2
   },
   "file_extension": ".py",
   "mimetype": "text/x-python",
   "name": "python",
   "nbconvert_exporter": "python",
   "pygments_lexer": "ipython2",
   "version": "2.7.12"
  }
 },
 "nbformat": 4,
 "nbformat_minor": 1
}
