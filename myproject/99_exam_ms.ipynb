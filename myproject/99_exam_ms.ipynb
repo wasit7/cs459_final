{
 "cells": [
  {
   "cell_type": "markdown",
   "metadata": {},
   "source": [
    "Write python scripts to answer the following questions:\n",
    "```\n",
    "Q1 Who did spend most money for renting?\n",
    "Q2 Which car does make the most amount of income?\n",
    "Q3 How many time Erick Gilbert rent the cars? (need to query from the name)\n",
    "Q4 What are the car rented by Ronald Cunningham? (need to query from the name)\n",
    "Q5 Between 17/03/2014(inclusive) and 29/03/2014(inclusive), \n",
    "    what is the total income of ALL cars in the range of time?\n",
    "Q6 Between 17/03/2014(inclusive) and 29/03/2014(inclusive), \n",
    "    what are the total incomes of EACH car in the range of time?\n",
    "Q7 Find all rental serveices that has duration less than than 3 days?\n",
    "Q8 Find all rental serveices that has duration greater than or equal than 2 day?\n",
    "Q9 Find the total rent duration of EACH car?\n",
    "Q10 Find the ratio [total_income_of_car]/[car_price] of EACH car?\n",
    "```"
   ]
  },
  {
   "cell_type": "code",
   "execution_count": null,
   "metadata": {
    "collapsed": true
   },
   "outputs": [],
   "source": []
  }
 ],
 "metadata": {
  "anaconda-cloud": {},
  "kernelspec": {
   "display_name": "Python [default]",
   "language": "python",
   "name": "python2"
  },
  "language_info": {
   "codemirror_mode": {
    "name": "ipython",
    "version": 2
   },
   "file_extension": ".py",
   "mimetype": "text/x-python",
   "name": "python",
   "nbconvert_exporter": "python",
   "pygments_lexer": "ipython2",
   "version": "2.7.12"
  }
 },
 "nbformat": 4,
 "nbformat_minor": 1
}
