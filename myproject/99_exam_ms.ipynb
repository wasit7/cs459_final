{
 "cells": [
  {
   "cell_type": "markdown",
   "metadata": {},
   "source": [
    "Write python scripts to answer the following questions:\n",
    "```\n",
    "Q1 Who did spend most money for renting?\n",
    "Q2 Which car does make the most amount of income?\n",
    "Q3 How many time Erick Gilbert (id=6) rent the cars? (need to query from the name)\n",
    "Q4 What are the car rented by Ronald Cunningham? (need to query from the name)\n",
    "Q5 Between 17/03/2014(inclusive) and 29/03/2014(inclusive), \n",
    "    what is the total income of ALL cars in the range of time?\n",
    "Q6 Between 17/03/2014(inclusive) and 29/03/2014(inclusive), \n",
    "    what are the total incomes of EACH car in the range of time?\n",
    "Q7 Find all rental serveices that has duration less than than 3 days?\n",
    "Q8 Find all rental serveices that has duration greater than or equal than 2 day?\n",
    "Q9 Find the total rent duration of EACH car?\n",
    "Q10 Find the ratio [total_income_of_car]/[car_price] of EACH car?\n",
    "```"
   ]
  },
  {
   "cell_type": "markdown",
   "metadata": {
    "collapsed": true
   },
   "source": [
    "```\n",
    "Q1 ใครจ่ายเงินค่าเช้ามากที่สุด\n",
    "Q2 รถคันไหนทำงานได้มากที่สุด\n",
    "Q3 Erick Gilbert (id=6) ยืมรถไปกี่ครั้ง (need to query from the name)\n",
    "Q4 Ronald Cunningham ยืมรถคันไหนบ้าง (need to query from the name)\n",
    "Q5 ช่วงวันที่ 17/03/2014(inclusive) ถึง 29/03/2014(inclusive), \n",
    "    หารายได้รวมของรถทุกคันในช่วงเวลานี้\n",
    "Q6 ช่วงวันที่ 17/03/2014(inclusive) ถึง 29/03/2014(inclusive),\n",
    "    หารายได้รวมของรถแต่ละคันในช่วงเวลานี้\n",
    "Q7 การเช่ารถครั้งใดบ้างที่มีระยะเวลายืมน้อยกว่า 3 วัน\n",
    "Q8 การเช่ารถครั้งใดบ้างที่มีระยะเวลายืมมากกว่าหรือเท่ากับ 2 วัน\n",
    "Q9 หาระยะเวลารวมของการเช่ารถแต่ละคัน\n",
    "Q10 หาอัตราส่วน [total_income_of_car]/[car_price] ของรถแต่ละคัน\n",
    "```"
   ]
  },
  {
   "cell_type": "code",
   "execution_count": null,
   "metadata": {
    "collapsed": true
   },
   "outputs": [],
   "source": []
  }
 ],
 "metadata": {
  "anaconda-cloud": {},
  "kernelspec": {
   "display_name": "Django Shell-Plus",
   "language": "python",
   "name": "python2"
  },
  "language_info": {
   "codemirror_mode": {
    "name": "ipython",
    "version": 2
   },
   "file_extension": ".py",
   "mimetype": "text/x-python",
   "name": "python",
   "nbconvert_exporter": "python",
   "pygments_lexer": "ipython2",
   "version": "2.7.12"
  }
 },
 "nbformat": 4,
 "nbformat_minor": 1
}
